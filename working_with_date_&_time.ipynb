{
 "cells": [
  {
   "cell_type": "code",
   "execution_count": 1,
   "id": "526c868a",
   "metadata": {},
   "outputs": [],
   "source": [
    "import pandas as pd\n",
    "import numpy as np"
   ]
  },
  {
   "cell_type": "code",
   "execution_count": 2,
   "id": "292adc24",
   "metadata": {},
   "outputs": [],
   "source": [
    "date = pd.read_csv(\"C:\\\\Users\\\\ANKAN KUMAR SAHOO\\\\Downloads\\\\orders.csv\")\n",
    "time = pd.read_csv(\"C:\\\\Users\\\\ANKAN KUMAR SAHOO\\\\Downloads\\\\messages.csv\")"
   ]
  },
  {
   "cell_type": "code",
   "execution_count": 3,
   "id": "ae5c06fe",
   "metadata": {},
   "outputs": [
    {
     "data": {
      "application/vnd.microsoft.datawrangler.viewer.v0+json": {
       "columns": [
        {
         "name": "index",
         "rawType": "int64",
         "type": "integer"
        },
        {
         "name": "date",
         "rawType": "object",
         "type": "string"
        },
        {
         "name": "product_id",
         "rawType": "int64",
         "type": "integer"
        },
        {
         "name": "city_id",
         "rawType": "int64",
         "type": "integer"
        },
        {
         "name": "orders",
         "rawType": "int64",
         "type": "integer"
        }
       ],
       "ref": "51693285-fb72-4872-977e-f092505a7461",
       "rows": [
        [
         "0",
         "2019-12-10",
         "5628",
         "25",
         "3"
        ],
        [
         "1",
         "2018-08-15",
         "3646",
         "14",
         "157"
        ],
        [
         "2",
         "2018-10-23",
         "1859",
         "25",
         "1"
        ],
        [
         "3",
         "2019-08-17",
         "7292",
         "25",
         "1"
        ],
        [
         "4",
         "2019-01-06",
         "4344",
         "25",
         "3"
        ]
       ],
       "shape": {
        "columns": 4,
        "rows": 5
       }
      },
      "text/html": [
       "<div>\n",
       "<style scoped>\n",
       "    .dataframe tbody tr th:only-of-type {\n",
       "        vertical-align: middle;\n",
       "    }\n",
       "\n",
       "    .dataframe tbody tr th {\n",
       "        vertical-align: top;\n",
       "    }\n",
       "\n",
       "    .dataframe thead th {\n",
       "        text-align: right;\n",
       "    }\n",
       "</style>\n",
       "<table border=\"1\" class=\"dataframe\">\n",
       "  <thead>\n",
       "    <tr style=\"text-align: right;\">\n",
       "      <th></th>\n",
       "      <th>date</th>\n",
       "      <th>product_id</th>\n",
       "      <th>city_id</th>\n",
       "      <th>orders</th>\n",
       "    </tr>\n",
       "  </thead>\n",
       "  <tbody>\n",
       "    <tr>\n",
       "      <th>0</th>\n",
       "      <td>2019-12-10</td>\n",
       "      <td>5628</td>\n",
       "      <td>25</td>\n",
       "      <td>3</td>\n",
       "    </tr>\n",
       "    <tr>\n",
       "      <th>1</th>\n",
       "      <td>2018-08-15</td>\n",
       "      <td>3646</td>\n",
       "      <td>14</td>\n",
       "      <td>157</td>\n",
       "    </tr>\n",
       "    <tr>\n",
       "      <th>2</th>\n",
       "      <td>2018-10-23</td>\n",
       "      <td>1859</td>\n",
       "      <td>25</td>\n",
       "      <td>1</td>\n",
       "    </tr>\n",
       "    <tr>\n",
       "      <th>3</th>\n",
       "      <td>2019-08-17</td>\n",
       "      <td>7292</td>\n",
       "      <td>25</td>\n",
       "      <td>1</td>\n",
       "    </tr>\n",
       "    <tr>\n",
       "      <th>4</th>\n",
       "      <td>2019-01-06</td>\n",
       "      <td>4344</td>\n",
       "      <td>25</td>\n",
       "      <td>3</td>\n",
       "    </tr>\n",
       "  </tbody>\n",
       "</table>\n",
       "</div>"
      ],
      "text/plain": [
       "         date  product_id  city_id  orders\n",
       "0  2019-12-10        5628       25       3\n",
       "1  2018-08-15        3646       14     157\n",
       "2  2018-10-23        1859       25       1\n",
       "3  2019-08-17        7292       25       1\n",
       "4  2019-01-06        4344       25       3"
      ]
     },
     "execution_count": 3,
     "metadata": {},
     "output_type": "execute_result"
    }
   ],
   "source": [
    "date.head()"
   ]
  },
  {
   "cell_type": "code",
   "execution_count": 4,
   "id": "a29cbee5",
   "metadata": {},
   "outputs": [
    {
     "name": "stdout",
     "output_type": "stream",
     "text": [
      "<class 'pandas.core.frame.DataFrame'>\n",
      "RangeIndex: 1000 entries, 0 to 999\n",
      "Data columns (total 4 columns):\n",
      " #   Column      Non-Null Count  Dtype \n",
      "---  ------      --------------  ----- \n",
      " 0   date        1000 non-null   object\n",
      " 1   product_id  1000 non-null   int64 \n",
      " 2   city_id     1000 non-null   int64 \n",
      " 3   orders      1000 non-null   int64 \n",
      "dtypes: int64(3), object(1)\n",
      "memory usage: 31.4+ KB\n"
     ]
    }
   ],
   "source": [
    "date.info()"
   ]
  },
  {
   "cell_type": "code",
   "execution_count": 5,
   "id": "8567586b",
   "metadata": {},
   "outputs": [],
   "source": [
    "date['date'] = pd.to_datetime(date['date'])"
   ]
  },
  {
   "cell_type": "code",
   "execution_count": 6,
   "id": "370cba67",
   "metadata": {},
   "outputs": [
    {
     "name": "stdout",
     "output_type": "stream",
     "text": [
      "<class 'pandas.core.frame.DataFrame'>\n",
      "RangeIndex: 1000 entries, 0 to 999\n",
      "Data columns (total 4 columns):\n",
      " #   Column      Non-Null Count  Dtype         \n",
      "---  ------      --------------  -----         \n",
      " 0   date        1000 non-null   datetime64[ns]\n",
      " 1   product_id  1000 non-null   int64         \n",
      " 2   city_id     1000 non-null   int64         \n",
      " 3   orders      1000 non-null   int64         \n",
      "dtypes: datetime64[ns](1), int64(3)\n",
      "memory usage: 31.4 KB\n"
     ]
    }
   ],
   "source": [
    "date.info()"
   ]
  },
  {
   "cell_type": "code",
   "execution_count": 7,
   "id": "de4fb88a",
   "metadata": {},
   "outputs": [],
   "source": [
    "date['date_year'] = date['date'].dt.year"
   ]
  },
  {
   "cell_type": "code",
   "execution_count": 8,
   "id": "981aa46e",
   "metadata": {},
   "outputs": [],
   "source": [
    "date['date_month_no'] = date['date'].dt.month"
   ]
  },
  {
   "cell_type": "code",
   "execution_count": 9,
   "id": "610d900d",
   "metadata": {},
   "outputs": [],
   "source": [
    "date['date_month_name'] = date['date'].dt.month_name()"
   ]
  },
  {
   "cell_type": "code",
   "execution_count": 10,
   "id": "3b451d87",
   "metadata": {},
   "outputs": [],
   "source": [
    "date['date_day'] = date['date'].dt.day"
   ]
  },
  {
   "cell_type": "code",
   "execution_count": 11,
   "id": "af82a07b",
   "metadata": {},
   "outputs": [],
   "source": [
    "date['day_of_week'] = date['date'].dt.dayofweek"
   ]
  },
  {
   "cell_type": "code",
   "execution_count": 12,
   "id": "84779265",
   "metadata": {},
   "outputs": [],
   "source": [
    "date['date_of_week_name'] = date['date'].dt.day_name()"
   ]
  },
  {
   "cell_type": "code",
   "execution_count": 17,
   "id": "7f98adb4",
   "metadata": {},
   "outputs": [],
   "source": [
    "date['quarter'] = date['date'].dt.quarter"
   ]
  },
  {
   "cell_type": "code",
   "execution_count": 19,
   "id": "2c3f16c2",
   "metadata": {},
   "outputs": [
    {
     "data": {
      "application/vnd.microsoft.datawrangler.viewer.v0+json": {
       "columns": [
        {
         "name": "index",
         "rawType": "int64",
         "type": "integer"
        },
        {
         "name": "date",
         "rawType": "datetime64[ns]",
         "type": "datetime"
        },
        {
         "name": "product_id",
         "rawType": "int64",
         "type": "integer"
        },
        {
         "name": "city_id",
         "rawType": "int64",
         "type": "integer"
        },
        {
         "name": "orders",
         "rawType": "int64",
         "type": "integer"
        },
        {
         "name": "date_year",
         "rawType": "int32",
         "type": "integer"
        },
        {
         "name": "date_month_no",
         "rawType": "int32",
         "type": "integer"
        },
        {
         "name": "date_month_name",
         "rawType": "object",
         "type": "string"
        },
        {
         "name": "date_day",
         "rawType": "int32",
         "type": "integer"
        },
        {
         "name": "day_of_week",
         "rawType": "int32",
         "type": "integer"
        },
        {
         "name": "date_of_week_name",
         "rawType": "object",
         "type": "string"
        },
        {
         "name": "quarter",
         "rawType": "int32",
         "type": "integer"
        }
       ],
       "ref": "a3660afc-4aa4-4a04-a1d5-609b2b46f2e7",
       "rows": [
        [
         "0",
         "2019-12-10 00:00:00",
         "5628",
         "25",
         "3",
         "2019",
         "12",
         "December",
         "10",
         "1",
         "Tuesday",
         "4"
        ],
        [
         "1",
         "2018-08-15 00:00:00",
         "3646",
         "14",
         "157",
         "2018",
         "8",
         "August",
         "15",
         "2",
         "Wednesday",
         "3"
        ],
        [
         "2",
         "2018-10-23 00:00:00",
         "1859",
         "25",
         "1",
         "2018",
         "10",
         "October",
         "23",
         "1",
         "Tuesday",
         "4"
        ],
        [
         "3",
         "2019-08-17 00:00:00",
         "7292",
         "25",
         "1",
         "2019",
         "8",
         "August",
         "17",
         "5",
         "Saturday",
         "3"
        ],
        [
         "4",
         "2019-01-06 00:00:00",
         "4344",
         "25",
         "3",
         "2019",
         "1",
         "January",
         "6",
         "6",
         "Sunday",
         "1"
        ]
       ],
       "shape": {
        "columns": 11,
        "rows": 5
       }
      },
      "text/html": [
       "<div>\n",
       "<style scoped>\n",
       "    .dataframe tbody tr th:only-of-type {\n",
       "        vertical-align: middle;\n",
       "    }\n",
       "\n",
       "    .dataframe tbody tr th {\n",
       "        vertical-align: top;\n",
       "    }\n",
       "\n",
       "    .dataframe thead th {\n",
       "        text-align: right;\n",
       "    }\n",
       "</style>\n",
       "<table border=\"1\" class=\"dataframe\">\n",
       "  <thead>\n",
       "    <tr style=\"text-align: right;\">\n",
       "      <th></th>\n",
       "      <th>date</th>\n",
       "      <th>product_id</th>\n",
       "      <th>city_id</th>\n",
       "      <th>orders</th>\n",
       "      <th>date_year</th>\n",
       "      <th>date_month_no</th>\n",
       "      <th>date_month_name</th>\n",
       "      <th>date_day</th>\n",
       "      <th>day_of_week</th>\n",
       "      <th>date_of_week_name</th>\n",
       "      <th>quarter</th>\n",
       "    </tr>\n",
       "  </thead>\n",
       "  <tbody>\n",
       "    <tr>\n",
       "      <th>0</th>\n",
       "      <td>2019-12-10</td>\n",
       "      <td>5628</td>\n",
       "      <td>25</td>\n",
       "      <td>3</td>\n",
       "      <td>2019</td>\n",
       "      <td>12</td>\n",
       "      <td>December</td>\n",
       "      <td>10</td>\n",
       "      <td>1</td>\n",
       "      <td>Tuesday</td>\n",
       "      <td>4</td>\n",
       "    </tr>\n",
       "    <tr>\n",
       "      <th>1</th>\n",
       "      <td>2018-08-15</td>\n",
       "      <td>3646</td>\n",
       "      <td>14</td>\n",
       "      <td>157</td>\n",
       "      <td>2018</td>\n",
       "      <td>8</td>\n",
       "      <td>August</td>\n",
       "      <td>15</td>\n",
       "      <td>2</td>\n",
       "      <td>Wednesday</td>\n",
       "      <td>3</td>\n",
       "    </tr>\n",
       "    <tr>\n",
       "      <th>2</th>\n",
       "      <td>2018-10-23</td>\n",
       "      <td>1859</td>\n",
       "      <td>25</td>\n",
       "      <td>1</td>\n",
       "      <td>2018</td>\n",
       "      <td>10</td>\n",
       "      <td>October</td>\n",
       "      <td>23</td>\n",
       "      <td>1</td>\n",
       "      <td>Tuesday</td>\n",
       "      <td>4</td>\n",
       "    </tr>\n",
       "    <tr>\n",
       "      <th>3</th>\n",
       "      <td>2019-08-17</td>\n",
       "      <td>7292</td>\n",
       "      <td>25</td>\n",
       "      <td>1</td>\n",
       "      <td>2019</td>\n",
       "      <td>8</td>\n",
       "      <td>August</td>\n",
       "      <td>17</td>\n",
       "      <td>5</td>\n",
       "      <td>Saturday</td>\n",
       "      <td>3</td>\n",
       "    </tr>\n",
       "    <tr>\n",
       "      <th>4</th>\n",
       "      <td>2019-01-06</td>\n",
       "      <td>4344</td>\n",
       "      <td>25</td>\n",
       "      <td>3</td>\n",
       "      <td>2019</td>\n",
       "      <td>1</td>\n",
       "      <td>January</td>\n",
       "      <td>6</td>\n",
       "      <td>6</td>\n",
       "      <td>Sunday</td>\n",
       "      <td>1</td>\n",
       "    </tr>\n",
       "  </tbody>\n",
       "</table>\n",
       "</div>"
      ],
      "text/plain": [
       "        date  product_id  city_id  orders  date_year  date_month_no  \\\n",
       "0 2019-12-10        5628       25       3       2019             12   \n",
       "1 2018-08-15        3646       14     157       2018              8   \n",
       "2 2018-10-23        1859       25       1       2018             10   \n",
       "3 2019-08-17        7292       25       1       2019              8   \n",
       "4 2019-01-06        4344       25       3       2019              1   \n",
       "\n",
       "  date_month_name  date_day  day_of_week date_of_week_name  quarter  \n",
       "0        December        10            1           Tuesday        4  \n",
       "1          August        15            2         Wednesday        3  \n",
       "2         October        23            1           Tuesday        4  \n",
       "3          August        17            5          Saturday        3  \n",
       "4         January         6            6            Sunday        1  "
      ]
     },
     "execution_count": 19,
     "metadata": {},
     "output_type": "execute_result"
    }
   ],
   "source": [
    "date.head()"
   ]
  },
  {
   "cell_type": "code",
   "execution_count": null,
   "id": "b16b9c97",
   "metadata": {},
   "outputs": [],
   "source": []
  }
 ],
 "metadata": {
  "kernelspec": {
   "display_name": "Python 3",
   "language": "python",
   "name": "python3"
  },
  "language_info": {
   "codemirror_mode": {
    "name": "ipython",
    "version": 3
   },
   "file_extension": ".py",
   "mimetype": "text/x-python",
   "name": "python",
   "nbconvert_exporter": "python",
   "pygments_lexer": "ipython3",
   "version": "3.12.4"
  }
 },
 "nbformat": 4,
 "nbformat_minor": 5
}
