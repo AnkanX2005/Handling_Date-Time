{
 "cells": [
  {
   "cell_type": "code",
   "execution_count": 1,
   "id": "526c868a",
   "metadata": {},
   "outputs": [],
   "source": [
    "import pandas as pd\n",
    "import numpy as np"
   ]
  },
  {
   "cell_type": "code",
   "execution_count": 2,
   "id": "292adc24",
   "metadata": {},
   "outputs": [],
   "source": [
    "date = pd.read_csv(\"C:\\\\Users\\\\ANKAN KUMAR SAHOO\\\\Downloads\\\\orders.csv\")\n",
    "time = pd.read_csv(\"C:\\\\Users\\\\ANKAN KUMAR SAHOO\\\\Downloads\\\\messages.csv\")"
   ]
  },
  {
   "cell_type": "code",
   "execution_count": 3,
   "id": "ae5c06fe",
   "metadata": {},
   "outputs": [
    {
     "data": {
      "application/vnd.microsoft.datawrangler.viewer.v0+json": {
       "columns": [
        {
         "name": "index",
         "rawType": "int64",
         "type": "integer"
        },
        {
         "name": "date",
         "rawType": "object",
         "type": "string"
        },
        {
         "name": "product_id",
         "rawType": "int64",
         "type": "integer"
        },
        {
         "name": "city_id",
         "rawType": "int64",
         "type": "integer"
        },
        {
         "name": "orders",
         "rawType": "int64",
         "type": "integer"
        }
       ],
       "ref": "4f536fd3-0a3c-4e7e-9a1b-81b93dab7bd9",
       "rows": [
        [
         "0",
         "2019-12-10",
         "5628",
         "25",
         "3"
        ],
        [
         "1",
         "2018-08-15",
         "3646",
         "14",
         "157"
        ],
        [
         "2",
         "2018-10-23",
         "1859",
         "25",
         "1"
        ],
        [
         "3",
         "2019-08-17",
         "7292",
         "25",
         "1"
        ],
        [
         "4",
         "2019-01-06",
         "4344",
         "25",
         "3"
        ]
       ],
       "shape": {
        "columns": 4,
        "rows": 5
       }
      },
      "text/html": [
       "<div>\n",
       "<style scoped>\n",
       "    .dataframe tbody tr th:only-of-type {\n",
       "        vertical-align: middle;\n",
       "    }\n",
       "\n",
       "    .dataframe tbody tr th {\n",
       "        vertical-align: top;\n",
       "    }\n",
       "\n",
       "    .dataframe thead th {\n",
       "        text-align: right;\n",
       "    }\n",
       "</style>\n",
       "<table border=\"1\" class=\"dataframe\">\n",
       "  <thead>\n",
       "    <tr style=\"text-align: right;\">\n",
       "      <th></th>\n",
       "      <th>date</th>\n",
       "      <th>product_id</th>\n",
       "      <th>city_id</th>\n",
       "      <th>orders</th>\n",
       "    </tr>\n",
       "  </thead>\n",
       "  <tbody>\n",
       "    <tr>\n",
       "      <th>0</th>\n",
       "      <td>2019-12-10</td>\n",
       "      <td>5628</td>\n",
       "      <td>25</td>\n",
       "      <td>3</td>\n",
       "    </tr>\n",
       "    <tr>\n",
       "      <th>1</th>\n",
       "      <td>2018-08-15</td>\n",
       "      <td>3646</td>\n",
       "      <td>14</td>\n",
       "      <td>157</td>\n",
       "    </tr>\n",
       "    <tr>\n",
       "      <th>2</th>\n",
       "      <td>2018-10-23</td>\n",
       "      <td>1859</td>\n",
       "      <td>25</td>\n",
       "      <td>1</td>\n",
       "    </tr>\n",
       "    <tr>\n",
       "      <th>3</th>\n",
       "      <td>2019-08-17</td>\n",
       "      <td>7292</td>\n",
       "      <td>25</td>\n",
       "      <td>1</td>\n",
       "    </tr>\n",
       "    <tr>\n",
       "      <th>4</th>\n",
       "      <td>2019-01-06</td>\n",
       "      <td>4344</td>\n",
       "      <td>25</td>\n",
       "      <td>3</td>\n",
       "    </tr>\n",
       "  </tbody>\n",
       "</table>\n",
       "</div>"
      ],
      "text/plain": [
       "         date  product_id  city_id  orders\n",
       "0  2019-12-10        5628       25       3\n",
       "1  2018-08-15        3646       14     157\n",
       "2  2018-10-23        1859       25       1\n",
       "3  2019-08-17        7292       25       1\n",
       "4  2019-01-06        4344       25       3"
      ]
     },
     "execution_count": 3,
     "metadata": {},
     "output_type": "execute_result"
    }
   ],
   "source": [
    "date.head()"
   ]
  },
  {
   "cell_type": "code",
   "execution_count": 4,
   "id": "a29cbee5",
   "metadata": {},
   "outputs": [
    {
     "name": "stdout",
     "output_type": "stream",
     "text": [
      "<class 'pandas.core.frame.DataFrame'>\n",
      "RangeIndex: 1000 entries, 0 to 999\n",
      "Data columns (total 4 columns):\n",
      " #   Column      Non-Null Count  Dtype \n",
      "---  ------      --------------  ----- \n",
      " 0   date        1000 non-null   object\n",
      " 1   product_id  1000 non-null   int64 \n",
      " 2   city_id     1000 non-null   int64 \n",
      " 3   orders      1000 non-null   int64 \n",
      "dtypes: int64(3), object(1)\n",
      "memory usage: 31.4+ KB\n"
     ]
    }
   ],
   "source": [
    "date.info()"
   ]
  },
  {
   "cell_type": "code",
   "execution_count": 5,
   "id": "8567586b",
   "metadata": {},
   "outputs": [],
   "source": [
    "date['date'] = pd.to_datetime(date['date'])"
   ]
  },
  {
   "cell_type": "code",
   "execution_count": 6,
   "id": "370cba67",
   "metadata": {},
   "outputs": [
    {
     "name": "stdout",
     "output_type": "stream",
     "text": [
      "<class 'pandas.core.frame.DataFrame'>\n",
      "RangeIndex: 1000 entries, 0 to 999\n",
      "Data columns (total 4 columns):\n",
      " #   Column      Non-Null Count  Dtype         \n",
      "---  ------      --------------  -----         \n",
      " 0   date        1000 non-null   datetime64[ns]\n",
      " 1   product_id  1000 non-null   int64         \n",
      " 2   city_id     1000 non-null   int64         \n",
      " 3   orders      1000 non-null   int64         \n",
      "dtypes: datetime64[ns](1), int64(3)\n",
      "memory usage: 31.4 KB\n"
     ]
    }
   ],
   "source": [
    "date.info()"
   ]
  },
  {
   "cell_type": "markdown",
   "id": "b17e96fa",
   "metadata": {},
   "source": [
    "Year"
   ]
  },
  {
   "cell_type": "code",
   "execution_count": 7,
   "id": "de4fb88a",
   "metadata": {},
   "outputs": [],
   "source": [
    "date['date_year'] = date['date'].dt.year"
   ]
  },
  {
   "cell_type": "markdown",
   "id": "2fe87f5b",
   "metadata": {},
   "source": [
    "Month"
   ]
  },
  {
   "cell_type": "code",
   "execution_count": 8,
   "id": "981aa46e",
   "metadata": {},
   "outputs": [],
   "source": [
    "date['date_month_no'] = date['date'].dt.month"
   ]
  },
  {
   "cell_type": "markdown",
   "id": "8c4396b6",
   "metadata": {},
   "source": [
    "Month Name"
   ]
  },
  {
   "cell_type": "code",
   "execution_count": 9,
   "id": "610d900d",
   "metadata": {},
   "outputs": [],
   "source": [
    "date['date_month_name'] = date['date'].dt.month_name()"
   ]
  },
  {
   "cell_type": "markdown",
   "id": "e8bf7452",
   "metadata": {},
   "source": [
    "Day"
   ]
  },
  {
   "cell_type": "code",
   "execution_count": 10,
   "id": "3b451d87",
   "metadata": {},
   "outputs": [],
   "source": [
    "date['date_day'] = date['date'].dt.day"
   ]
  },
  {
   "cell_type": "markdown",
   "id": "37febd4a",
   "metadata": {},
   "source": [
    "Day of Week"
   ]
  },
  {
   "cell_type": "code",
   "execution_count": 11,
   "id": "af82a07b",
   "metadata": {},
   "outputs": [],
   "source": [
    "date['day_of_week'] = date['date'].dt.dayofweek"
   ]
  },
  {
   "cell_type": "markdown",
   "id": "16087fa1",
   "metadata": {},
   "source": [
    "Day of Week Name"
   ]
  },
  {
   "cell_type": "code",
   "execution_count": 12,
   "id": "84779265",
   "metadata": {},
   "outputs": [],
   "source": [
    "date['date_of_week_name'] = date['date'].dt.day_name()"
   ]
  },
  {
   "cell_type": "markdown",
   "id": "178413fb",
   "metadata": {},
   "source": [
    "Quarter"
   ]
  },
  {
   "cell_type": "code",
   "execution_count": 13,
   "id": "7f98adb4",
   "metadata": {},
   "outputs": [],
   "source": [
    "date['quarter'] = date['date'].dt.quarter"
   ]
  },
  {
   "cell_type": "code",
   "execution_count": 14,
   "id": "2c3f16c2",
   "metadata": {},
   "outputs": [
    {
     "data": {
      "application/vnd.microsoft.datawrangler.viewer.v0+json": {
       "columns": [
        {
         "name": "index",
         "rawType": "int64",
         "type": "integer"
        },
        {
         "name": "date",
         "rawType": "datetime64[ns]",
         "type": "datetime"
        },
        {
         "name": "product_id",
         "rawType": "int64",
         "type": "integer"
        },
        {
         "name": "city_id",
         "rawType": "int64",
         "type": "integer"
        },
        {
         "name": "orders",
         "rawType": "int64",
         "type": "integer"
        },
        {
         "name": "date_year",
         "rawType": "int32",
         "type": "integer"
        },
        {
         "name": "date_month_no",
         "rawType": "int32",
         "type": "integer"
        },
        {
         "name": "date_month_name",
         "rawType": "object",
         "type": "string"
        },
        {
         "name": "date_day",
         "rawType": "int32",
         "type": "integer"
        },
        {
         "name": "day_of_week",
         "rawType": "int32",
         "type": "integer"
        },
        {
         "name": "date_of_week_name",
         "rawType": "object",
         "type": "string"
        },
        {
         "name": "quarter",
         "rawType": "int32",
         "type": "integer"
        }
       ],
       "ref": "564ea870-d8e7-47fe-be99-1ef3d4ec2410",
       "rows": [
        [
         "0",
         "2019-12-10 00:00:00",
         "5628",
         "25",
         "3",
         "2019",
         "12",
         "December",
         "10",
         "1",
         "Tuesday",
         "4"
        ],
        [
         "1",
         "2018-08-15 00:00:00",
         "3646",
         "14",
         "157",
         "2018",
         "8",
         "August",
         "15",
         "2",
         "Wednesday",
         "3"
        ],
        [
         "2",
         "2018-10-23 00:00:00",
         "1859",
         "25",
         "1",
         "2018",
         "10",
         "October",
         "23",
         "1",
         "Tuesday",
         "4"
        ],
        [
         "3",
         "2019-08-17 00:00:00",
         "7292",
         "25",
         "1",
         "2019",
         "8",
         "August",
         "17",
         "5",
         "Saturday",
         "3"
        ],
        [
         "4",
         "2019-01-06 00:00:00",
         "4344",
         "25",
         "3",
         "2019",
         "1",
         "January",
         "6",
         "6",
         "Sunday",
         "1"
        ]
       ],
       "shape": {
        "columns": 11,
        "rows": 5
       }
      },
      "text/html": [
       "<div>\n",
       "<style scoped>\n",
       "    .dataframe tbody tr th:only-of-type {\n",
       "        vertical-align: middle;\n",
       "    }\n",
       "\n",
       "    .dataframe tbody tr th {\n",
       "        vertical-align: top;\n",
       "    }\n",
       "\n",
       "    .dataframe thead th {\n",
       "        text-align: right;\n",
       "    }\n",
       "</style>\n",
       "<table border=\"1\" class=\"dataframe\">\n",
       "  <thead>\n",
       "    <tr style=\"text-align: right;\">\n",
       "      <th></th>\n",
       "      <th>date</th>\n",
       "      <th>product_id</th>\n",
       "      <th>city_id</th>\n",
       "      <th>orders</th>\n",
       "      <th>date_year</th>\n",
       "      <th>date_month_no</th>\n",
       "      <th>date_month_name</th>\n",
       "      <th>date_day</th>\n",
       "      <th>day_of_week</th>\n",
       "      <th>date_of_week_name</th>\n",
       "      <th>quarter</th>\n",
       "    </tr>\n",
       "  </thead>\n",
       "  <tbody>\n",
       "    <tr>\n",
       "      <th>0</th>\n",
       "      <td>2019-12-10</td>\n",
       "      <td>5628</td>\n",
       "      <td>25</td>\n",
       "      <td>3</td>\n",
       "      <td>2019</td>\n",
       "      <td>12</td>\n",
       "      <td>December</td>\n",
       "      <td>10</td>\n",
       "      <td>1</td>\n",
       "      <td>Tuesday</td>\n",
       "      <td>4</td>\n",
       "    </tr>\n",
       "    <tr>\n",
       "      <th>1</th>\n",
       "      <td>2018-08-15</td>\n",
       "      <td>3646</td>\n",
       "      <td>14</td>\n",
       "      <td>157</td>\n",
       "      <td>2018</td>\n",
       "      <td>8</td>\n",
       "      <td>August</td>\n",
       "      <td>15</td>\n",
       "      <td>2</td>\n",
       "      <td>Wednesday</td>\n",
       "      <td>3</td>\n",
       "    </tr>\n",
       "    <tr>\n",
       "      <th>2</th>\n",
       "      <td>2018-10-23</td>\n",
       "      <td>1859</td>\n",
       "      <td>25</td>\n",
       "      <td>1</td>\n",
       "      <td>2018</td>\n",
       "      <td>10</td>\n",
       "      <td>October</td>\n",
       "      <td>23</td>\n",
       "      <td>1</td>\n",
       "      <td>Tuesday</td>\n",
       "      <td>4</td>\n",
       "    </tr>\n",
       "    <tr>\n",
       "      <th>3</th>\n",
       "      <td>2019-08-17</td>\n",
       "      <td>7292</td>\n",
       "      <td>25</td>\n",
       "      <td>1</td>\n",
       "      <td>2019</td>\n",
       "      <td>8</td>\n",
       "      <td>August</td>\n",
       "      <td>17</td>\n",
       "      <td>5</td>\n",
       "      <td>Saturday</td>\n",
       "      <td>3</td>\n",
       "    </tr>\n",
       "    <tr>\n",
       "      <th>4</th>\n",
       "      <td>2019-01-06</td>\n",
       "      <td>4344</td>\n",
       "      <td>25</td>\n",
       "      <td>3</td>\n",
       "      <td>2019</td>\n",
       "      <td>1</td>\n",
       "      <td>January</td>\n",
       "      <td>6</td>\n",
       "      <td>6</td>\n",
       "      <td>Sunday</td>\n",
       "      <td>1</td>\n",
       "    </tr>\n",
       "  </tbody>\n",
       "</table>\n",
       "</div>"
      ],
      "text/plain": [
       "        date  product_id  city_id  orders  date_year  date_month_no  \\\n",
       "0 2019-12-10        5628       25       3       2019             12   \n",
       "1 2018-08-15        3646       14     157       2018              8   \n",
       "2 2018-10-23        1859       25       1       2018             10   \n",
       "3 2019-08-17        7292       25       1       2019              8   \n",
       "4 2019-01-06        4344       25       3       2019              1   \n",
       "\n",
       "  date_month_name  date_day  day_of_week date_of_week_name  quarter  \n",
       "0        December        10            1           Tuesday        4  \n",
       "1          August        15            2         Wednesday        3  \n",
       "2         October        23            1           Tuesday        4  \n",
       "3          August        17            5          Saturday        3  \n",
       "4         January         6            6            Sunday        1  "
      ]
     },
     "execution_count": 14,
     "metadata": {},
     "output_type": "execute_result"
    }
   ],
   "source": [
    "date.head()"
   ]
  },
  {
   "cell_type": "code",
   "execution_count": 15,
   "id": "b16b9c97",
   "metadata": {},
   "outputs": [
    {
     "data": {
      "text/plain": [
       "datetime.datetime(2025, 9, 4, 19, 14, 2, 551319)"
      ]
     },
     "execution_count": 15,
     "metadata": {},
     "output_type": "execute_result"
    }
   ],
   "source": [
    "import datetime\n",
    "\n",
    "today = datetime.datetime.today()\n",
    "\n",
    "today"
   ]
  },
  {
   "cell_type": "code",
   "execution_count": 16,
   "id": "56d281ad",
   "metadata": {},
   "outputs": [
    {
     "name": "stdout",
     "output_type": "stream",
     "text": [
      "<class 'pandas.core.frame.DataFrame'>\n",
      "RangeIndex: 1000 entries, 0 to 999\n",
      "Data columns (total 2 columns):\n",
      " #   Column  Non-Null Count  Dtype \n",
      "---  ------  --------------  ----- \n",
      " 0   date    1000 non-null   object\n",
      " 1   msg     1000 non-null   object\n",
      "dtypes: object(2)\n",
      "memory usage: 15.8+ KB\n"
     ]
    }
   ],
   "source": [
    "time.info()"
   ]
  },
  {
   "cell_type": "code",
   "execution_count": 17,
   "id": "13fbecf6",
   "metadata": {},
   "outputs": [],
   "source": [
    "time['date'] = pd.to_datetime(time['date'])"
   ]
  },
  {
   "cell_type": "code",
   "execution_count": 18,
   "id": "cf8542ed",
   "metadata": {},
   "outputs": [
    {
     "name": "stdout",
     "output_type": "stream",
     "text": [
      "<class 'pandas.core.frame.DataFrame'>\n",
      "RangeIndex: 1000 entries, 0 to 999\n",
      "Data columns (total 2 columns):\n",
      " #   Column  Non-Null Count  Dtype         \n",
      "---  ------  --------------  -----         \n",
      " 0   date    1000 non-null   datetime64[ns]\n",
      " 1   msg     1000 non-null   object        \n",
      "dtypes: datetime64[ns](1), object(1)\n",
      "memory usage: 15.8+ KB\n"
     ]
    }
   ],
   "source": [
    "time.info()"
   ]
  },
  {
   "cell_type": "code",
   "execution_count": 19,
   "id": "226ab581",
   "metadata": {},
   "outputs": [],
   "source": [
    "time['hour'] = time['date'].dt.hour # hour\n",
    "time['min'] = time['date'].dt.minute # minute\n",
    "time['sec'] = time['date'].dt.second # second"
   ]
  },
  {
   "cell_type": "code",
   "execution_count": 20,
   "id": "50c37878",
   "metadata": {},
   "outputs": [],
   "source": [
    "\n",
    "time['time'] = time['date'].dt.time\n"
   ]
  },
  {
   "cell_type": "code",
   "execution_count": 21,
   "id": "f776170e",
   "metadata": {},
   "outputs": [
    {
     "data": {
      "application/vnd.microsoft.datawrangler.viewer.v0+json": {
       "columns": [
        {
         "name": "index",
         "rawType": "int64",
         "type": "integer"
        },
        {
         "name": "date",
         "rawType": "timedelta64[ns]",
         "type": "unknown"
        }
       ],
       "ref": "46f08628-07f2-4f9a-85b6-b1cf6941e858",
       "rows": [
        [
         "0",
         "4281 days 18:24:02.551319"
        ],
        [
         "1",
         "4145 days 19:34:02.551319"
        ],
        [
         "2",
         "4631 days 18:53:02.551319"
        ],
        [
         "3",
         "3933 days 18:43:02.551319"
        ],
        [
         "4",
         "4330 days 20:03:02.551319"
        ],
        [
         "5",
         "3466 days 20:22:02.551319"
        ],
        [
         "6",
         "4216 days 18:51:02.551319"
        ],
        [
         "7",
         "4668 days 18:04:02.551319"
        ],
        [
         "8",
         "3908 days 17:54:02.551319"
        ],
        [
         "9",
         "4687 days 19:28:02.551319"
        ],
        [
         "10",
         "4423 days 19:03:02.551319"
        ],
        [
         "11",
         "4278 days 18:35:02.551319"
        ],
        [
         "12",
         "4474 days 18:09:02.551319"
        ],
        [
         "13",
         "3202 days 20:45:02.551319"
        ],
        [
         "14",
         "3623 days 17:32:02.551319"
        ],
        [
         "15",
         "4758 days 20:01:02.551319"
        ],
        [
         "16",
         "3607 days 20:22:02.551319"
        ],
        [
         "17",
         "4344 days 18:13:02.551319"
        ],
        [
         "18",
         "3515 days 20:41:02.551319"
        ],
        [
         "19",
         "4188 days 19:58:02.551319"
        ],
        [
         "20",
         "4103 days 19:02:02.551319"
        ],
        [
         "21",
         "4242 days 18:57:02.551319"
        ],
        [
         "22",
         "3851 days 18:40:02.551319"
        ],
        [
         "23",
         "4377 days 19:08:02.551319"
        ],
        [
         "24",
         "4553 days 17:14:02.551319"
        ],
        [
         "25",
         "4111 days 18:13:02.551319"
        ],
        [
         "26",
         "3321 days 19:55:02.551319"
        ],
        [
         "27",
         "3930 days 20:15:02.551319"
        ],
        [
         "28",
         "3222 days 18:57:02.551319"
        ],
        [
         "29",
         "4184 days 20:18:02.551319"
        ],
        [
         "30",
         "4554 days 19:54:02.551319"
        ],
        [
         "31",
         "4568 days 18:16:02.551319"
        ],
        [
         "32",
         "4944 days 19:34:02.551319"
        ],
        [
         "33",
         "3716 days 18:29:02.551319"
        ],
        [
         "34",
         "3617 days 18:22:02.551319"
        ],
        [
         "35",
         "3600 days 18:07:02.551319"
        ],
        [
         "36",
         "4084 days 18:01:02.551319"
        ],
        [
         "37",
         "4321 days 17:25:02.551319"
        ],
        [
         "38",
         "4331 days 19:02:02.551319"
        ],
        [
         "39",
         "3407 days 19:07:02.551319"
        ],
        [
         "40",
         "4948 days 18:25:02.551319"
        ],
        [
         "41",
         "4576 days 18:21:02.551319"
        ],
        [
         "42",
         "4611 days 18:06:02.551319"
        ],
        [
         "43",
         "4309 days 19:28:02.551319"
        ],
        [
         "44",
         "3351 days 19:32:02.551319"
        ],
        [
         "45",
         "4846 days 18:46:02.551319"
        ],
        [
         "46",
         "4726 days 19:28:02.551319"
        ],
        [
         "47",
         "4134 days 18:43:02.551319"
        ],
        [
         "48",
         "4610 days 20:07:02.551319"
        ],
        [
         "49",
         "3985 days 19:34:02.551319"
        ]
       ],
       "shape": {
        "columns": 1,
        "rows": 1000
       }
      },
      "text/plain": [
       "0     4281 days 18:24:02.551319\n",
       "1     4145 days 19:34:02.551319\n",
       "2     4631 days 18:53:02.551319\n",
       "3     3933 days 18:43:02.551319\n",
       "4     4330 days 20:03:02.551319\n",
       "                 ...           \n",
       "995   4920 days 18:24:02.551319\n",
       "996   4241 days 20:00:02.551319\n",
       "997   4706 days 19:37:02.551319\n",
       "998   4822 days 19:40:02.551319\n",
       "999   4094 days 19:49:02.551319\n",
       "Name: date, Length: 1000, dtype: timedelta64[ns]"
      ]
     },
     "execution_count": 21,
     "metadata": {},
     "output_type": "execute_result"
    }
   ],
   "source": [
    "today - time['date']"
   ]
  },
  {
   "cell_type": "code",
   "execution_count": 22,
   "id": "e2bb460f",
   "metadata": {},
   "outputs": [
    {
     "data": {
      "application/vnd.microsoft.datawrangler.viewer.v0+json": {
       "columns": [
        {
         "name": "index",
         "rawType": "int64",
         "type": "integer"
        },
        {
         "name": "date",
         "rawType": "float64",
         "type": "float"
        }
       ],
       "ref": "90d22613-dcf5-4a9e-b4ed-93abefad1f9d",
       "rows": [
        [
         "0",
         "369944642.551319"
        ],
        [
         "1",
         "358198442.551319"
        ],
        [
         "2",
         "400186382.551319"
        ],
        [
         "3",
         "339878582.551319"
        ],
        [
         "4",
         "374184182.551319"
        ],
        [
         "5",
         "299535722.551319"
        ],
        [
         "6",
         "364330262.551319"
        ],
        [
         "7",
         "403380242.551319"
        ],
        [
         "8",
         "337715642.551319"
        ],
        [
         "9",
         "405026882.551319"
        ],
        [
         "10",
         "382215782.551319"
        ],
        [
         "11",
         "369686102.551319"
        ],
        [
         "12",
         "386618942.551319"
        ],
        [
         "13",
         "276727502.551319"
        ],
        [
         "14",
         "313090322.551319"
        ],
        [
         "15",
         "411163262.551319"
        ],
        [
         "16",
         "311718122.551319"
        ],
        [
         "17",
         "375387182.551319"
        ],
        [
         "18",
         "303770462.551319"
        ],
        [
         "19",
         "361915082.551319"
        ],
        [
         "20",
         "354567722.551319"
        ],
        [
         "21",
         "366577022.551319"
        ],
        [
         "22",
         "332793602.551319"
        ],
        [
         "23",
         "378241682.551319"
        ],
        [
         "24",
         "393441242.551319"
        ],
        [
         "25",
         "355255982.551319"
        ],
        [
         "26",
         "287006102.551319"
        ],
        [
         "27",
         "339624902.551319"
        ],
        [
         "28",
         "278449022.551319"
        ],
        [
         "29",
         "361570682.551319"
        ],
        [
         "30",
         "393537242.551319"
        ],
        [
         "31",
         "394740962.551319"
        ],
        [
         "32",
         "427232042.551319"
        ],
        [
         "33",
         "321128942.551319"
        ],
        [
         "34",
         "312574922.551319"
        ],
        [
         "35",
         "311105222.551319"
        ],
        [
         "36",
         "352922462.551319"
        ],
        [
         "37",
         "373397102.551319"
        ],
        [
         "38",
         "374266922.551319"
        ],
        [
         "39",
         "294433622.551319"
        ],
        [
         "40",
         "427573502.551319"
        ],
        [
         "41",
         "395432462.551319"
        ],
        [
         "42",
         "398455562.551319"
        ],
        [
         "43",
         "372367682.551319"
        ],
        [
         "44",
         "289596722.551319"
        ],
        [
         "45",
         "418761962.551319"
        ],
        [
         "46",
         "408396482.551319"
        ],
        [
         "47",
         "357244982.551319"
        ],
        [
         "48",
         "398376422.551319"
        ],
        [
         "49",
         "344374442.551319"
        ]
       ],
       "shape": {
        "columns": 1,
        "rows": 1000
       }
      },
      "text/plain": [
       "0      3.699446e+08\n",
       "1      3.581984e+08\n",
       "2      4.001864e+08\n",
       "3      3.398786e+08\n",
       "4      3.741842e+08\n",
       "           ...     \n",
       "995    4.251542e+08\n",
       "996    3.664944e+08\n",
       "997    4.066690e+08\n",
       "998    4.166916e+08\n",
       "999    3.537929e+08\n",
       "Name: date, Length: 1000, dtype: float64"
      ]
     },
     "execution_count": 22,
     "metadata": {},
     "output_type": "execute_result"
    }
   ],
   "source": [
    "(today - time['date'])/np.timedelta64(1,'s')"
   ]
  },
  {
   "cell_type": "code",
   "execution_count": 23,
   "id": "f95ece59",
   "metadata": {},
   "outputs": [
    {
     "data": {
      "application/vnd.microsoft.datawrangler.viewer.v0+json": {
       "columns": [
        {
         "name": "index",
         "rawType": "int64",
         "type": "integer"
        },
        {
         "name": "date",
         "rawType": "float64",
         "type": "float"
        }
       ],
       "ref": "5cf67823-1a99-4f96-a059-19e7edfa8461",
       "rows": [
        [
         "0",
         "6165744.042521983"
        ],
        [
         "1",
         "5969974.042521983"
        ],
        [
         "2",
         "6669773.042521983"
        ],
        [
         "3",
         "5664643.042521983"
        ],
        [
         "4",
         "6236403.042521983"
        ],
        [
         "5",
         "4992262.042521983"
        ],
        [
         "6",
         "6072171.042521983"
        ],
        [
         "7",
         "6723004.042521983"
        ],
        [
         "8",
         "5628594.042521983"
        ],
        [
         "9",
         "6750448.042521983"
        ],
        [
         "10",
         "6370263.042521983"
        ],
        [
         "11",
         "6161435.042521983"
        ],
        [
         "12",
         "6443649.042521983"
        ],
        [
         "13",
         "4612125.042521983"
        ],
        [
         "14",
         "5218172.042521983"
        ],
        [
         "15",
         "6852721.042521983"
        ],
        [
         "16",
         "5195302.042521983"
        ],
        [
         "17",
         "6256453.042521983"
        ],
        [
         "18",
         "5062841.042521983"
        ],
        [
         "19",
         "6031918.042521983"
        ],
        [
         "20",
         "5909462.042521983"
        ],
        [
         "21",
         "6109617.042521983"
        ],
        [
         "22",
         "5546560.042521983"
        ],
        [
         "23",
         "6304028.042521983"
        ],
        [
         "24",
         "6557354.042521983"
        ],
        [
         "25",
         "5920933.042521983"
        ],
        [
         "26",
         "4783435.042521983"
        ],
        [
         "27",
         "5660415.042521983"
        ],
        [
         "28",
         "4640817.042521983"
        ],
        [
         "29",
         "6026178.042521983"
        ],
        [
         "30",
         "6558954.042521983"
        ],
        [
         "31",
         "6579016.042521983"
        ],
        [
         "32",
         "7120534.042521983"
        ],
        [
         "33",
         "5352149.042521983"
        ],
        [
         "34",
         "5209582.042521983"
        ],
        [
         "35",
         "5185087.042521983"
        ],
        [
         "36",
         "5882041.042521983"
        ],
        [
         "37",
         "6223285.042521983"
        ],
        [
         "38",
         "6237782.042521983"
        ],
        [
         "39",
         "4907227.042521983"
        ],
        [
         "40",
         "7126225.042521983"
        ],
        [
         "41",
         "6590541.042521983"
        ],
        [
         "42",
         "6640926.042521983"
        ],
        [
         "43",
         "6206128.042521983"
        ],
        [
         "44",
         "4826612.042521983"
        ],
        [
         "45",
         "6979366.042521983"
        ],
        [
         "46",
         "6806608.042521983"
        ],
        [
         "47",
         "5954083.042521983"
        ],
        [
         "48",
         "6639607.042521983"
        ],
        [
         "49",
         "5739574.042521983"
        ]
       ],
       "shape": {
        "columns": 1,
        "rows": 1000
       }
      },
      "text/plain": [
       "0      6.165744e+06\n",
       "1      5.969974e+06\n",
       "2      6.669773e+06\n",
       "3      5.664643e+06\n",
       "4      6.236403e+06\n",
       "           ...     \n",
       "995    7.085904e+06\n",
       "996    6.108240e+06\n",
       "997    6.777817e+06\n",
       "998    6.944860e+06\n",
       "999    5.896549e+06\n",
       "Name: date, Length: 1000, dtype: float64"
      ]
     },
     "execution_count": 23,
     "metadata": {},
     "output_type": "execute_result"
    }
   ],
   "source": [
    "(today - time['date'])/np.timedelta64(1,'m')"
   ]
  },
  {
   "cell_type": "code",
   "execution_count": 24,
   "id": "9275c578",
   "metadata": {},
   "outputs": [
    {
     "data": {
      "application/vnd.microsoft.datawrangler.viewer.v0+json": {
       "columns": [
        {
         "name": "index",
         "rawType": "int64",
         "type": "integer"
        },
        {
         "name": "date",
         "rawType": "float64",
         "type": "float"
        }
       ],
       "ref": "b2f5aa57-c214-46cb-8320-98dc7a06941a",
       "rows": [
        [
         "0",
         "102762.40070869972"
        ],
        [
         "1",
         "99499.56737536639"
        ],
        [
         "2",
         "111162.88404203305"
        ],
        [
         "3",
         "94410.71737536638"
        ],
        [
         "4",
         "103940.05070869971"
        ],
        [
         "5",
         "83204.36737536638"
        ],
        [
         "6",
         "101202.85070869971"
        ],
        [
         "7",
         "112050.06737536639"
        ],
        [
         "8",
         "93809.90070869972"
        ],
        [
         "9",
         "112507.46737536638"
        ],
        [
         "10",
         "106171.05070869971"
        ],
        [
         "11",
         "102690.58404203305"
        ],
        [
         "12",
         "107394.15070869972"
        ],
        [
         "13",
         "76868.75070869972"
        ],
        [
         "14",
         "86969.53404203305"
        ],
        [
         "15",
         "114212.01737536638"
        ],
        [
         "16",
         "86588.36737536638"
        ],
        [
         "17",
         "104274.21737536638"
        ],
        [
         "18",
         "84380.68404203306"
        ],
        [
         "19",
         "100531.96737536638"
        ],
        [
         "20",
         "98491.03404203305"
        ],
        [
         "21",
         "101826.95070869972"
        ],
        [
         "22",
         "92442.66737536638"
        ],
        [
         "23",
         "105067.13404203305"
        ],
        [
         "24",
         "109289.23404203304"
        ],
        [
         "25",
         "98682.21737536638"
        ],
        [
         "26",
         "79723.91737536639"
        ],
        [
         "27",
         "94340.25070869972"
        ],
        [
         "28",
         "77346.95070869972"
        ],
        [
         "29",
         "100436.30070869971"
        ],
        [
         "30",
         "109315.90070869972"
        ],
        [
         "31",
         "109650.26737536638"
        ],
        [
         "32",
         "118675.56737536639"
        ],
        [
         "33",
         "89202.48404203304"
        ],
        [
         "34",
         "86826.36737536638"
        ],
        [
         "35",
         "86418.11737536638"
        ],
        [
         "36",
         "98034.01737536638"
        ],
        [
         "37",
         "103721.41737536638"
        ],
        [
         "38",
         "103963.03404203305"
        ],
        [
         "39",
         "81787.11737536638"
        ],
        [
         "40",
         "118770.41737536638"
        ],
        [
         "41",
         "109842.35070869971"
        ],
        [
         "42",
         "110682.10070869971"
        ],
        [
         "43",
         "103435.46737536638"
        ],
        [
         "44",
         "80443.53404203305"
        ],
        [
         "45",
         "116322.76737536638"
        ],
        [
         "46",
         "113443.46737536638"
        ],
        [
         "47",
         "99234.71737536638"
        ],
        [
         "48",
         "110660.11737536638"
        ],
        [
         "49",
         "95659.56737536639"
        ]
       ],
       "shape": {
        "columns": 1,
        "rows": 1000
       }
      },
      "text/plain": [
       "0      102762.400709\n",
       "1       99499.567375\n",
       "2      111162.884042\n",
       "3       94410.717375\n",
       "4      103940.050709\n",
       "           ...      \n",
       "995    118098.400709\n",
       "996    101804.000709\n",
       "997    112963.617375\n",
       "998    115747.667375\n",
       "999     98275.817375\n",
       "Name: date, Length: 1000, dtype: float64"
      ]
     },
     "execution_count": 24,
     "metadata": {},
     "output_type": "execute_result"
    }
   ],
   "source": [
    "(today - time['date'])/np.timedelta64(1,'h')"
   ]
  }
 ],
 "metadata": {
  "kernelspec": {
   "display_name": "Python 3",
   "language": "python",
   "name": "python3"
  },
  "language_info": {
   "codemirror_mode": {
    "name": "ipython",
    "version": 3
   },
   "file_extension": ".py",
   "mimetype": "text/x-python",
   "name": "python",
   "nbconvert_exporter": "python",
   "pygments_lexer": "ipython3",
   "version": "3.12.4"
  }
 },
 "nbformat": 4,
 "nbformat_minor": 5
}
