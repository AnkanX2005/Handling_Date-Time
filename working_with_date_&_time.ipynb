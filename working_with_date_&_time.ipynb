{
 "cells": [
  {
   "cell_type": "code",
   "execution_count": 41,
   "id": "526c868a",
   "metadata": {},
   "outputs": [],
   "source": [
    "import pandas as pd\n",
    "import numpy as np"
   ]
  },
  {
   "cell_type": "code",
   "execution_count": 42,
   "id": "292adc24",
   "metadata": {},
   "outputs": [],
   "source": [
    "date = pd.read_csv(\"C:\\\\Users\\\\ANKAN KUMAR SAHOO\\\\Downloads\\\\orders.csv\")\n",
    "time = pd.read_csv(\"C:\\\\Users\\\\ANKAN KUMAR SAHOO\\\\Downloads\\\\messages.csv\")"
   ]
  },
  {
   "cell_type": "code",
   "execution_count": 43,
   "id": "ae5c06fe",
   "metadata": {},
   "outputs": [
    {
     "data": {
      "application/vnd.microsoft.datawrangler.viewer.v0+json": {
       "columns": [
        {
         "name": "index",
         "rawType": "int64",
         "type": "integer"
        },
        {
         "name": "date",
         "rawType": "object",
         "type": "string"
        },
        {
         "name": "product_id",
         "rawType": "int64",
         "type": "integer"
        },
        {
         "name": "city_id",
         "rawType": "int64",
         "type": "integer"
        },
        {
         "name": "orders",
         "rawType": "int64",
         "type": "integer"
        }
       ],
       "ref": "d5377921-f1b4-4f49-8d09-5bce892b0474",
       "rows": [
        [
         "0",
         "2019-12-10",
         "5628",
         "25",
         "3"
        ],
        [
         "1",
         "2018-08-15",
         "3646",
         "14",
         "157"
        ],
        [
         "2",
         "2018-10-23",
         "1859",
         "25",
         "1"
        ],
        [
         "3",
         "2019-08-17",
         "7292",
         "25",
         "1"
        ],
        [
         "4",
         "2019-01-06",
         "4344",
         "25",
         "3"
        ]
       ],
       "shape": {
        "columns": 4,
        "rows": 5
       }
      },
      "text/html": [
       "<div>\n",
       "<style scoped>\n",
       "    .dataframe tbody tr th:only-of-type {\n",
       "        vertical-align: middle;\n",
       "    }\n",
       "\n",
       "    .dataframe tbody tr th {\n",
       "        vertical-align: top;\n",
       "    }\n",
       "\n",
       "    .dataframe thead th {\n",
       "        text-align: right;\n",
       "    }\n",
       "</style>\n",
       "<table border=\"1\" class=\"dataframe\">\n",
       "  <thead>\n",
       "    <tr style=\"text-align: right;\">\n",
       "      <th></th>\n",
       "      <th>date</th>\n",
       "      <th>product_id</th>\n",
       "      <th>city_id</th>\n",
       "      <th>orders</th>\n",
       "    </tr>\n",
       "  </thead>\n",
       "  <tbody>\n",
       "    <tr>\n",
       "      <th>0</th>\n",
       "      <td>2019-12-10</td>\n",
       "      <td>5628</td>\n",
       "      <td>25</td>\n",
       "      <td>3</td>\n",
       "    </tr>\n",
       "    <tr>\n",
       "      <th>1</th>\n",
       "      <td>2018-08-15</td>\n",
       "      <td>3646</td>\n",
       "      <td>14</td>\n",
       "      <td>157</td>\n",
       "    </tr>\n",
       "    <tr>\n",
       "      <th>2</th>\n",
       "      <td>2018-10-23</td>\n",
       "      <td>1859</td>\n",
       "      <td>25</td>\n",
       "      <td>1</td>\n",
       "    </tr>\n",
       "    <tr>\n",
       "      <th>3</th>\n",
       "      <td>2019-08-17</td>\n",
       "      <td>7292</td>\n",
       "      <td>25</td>\n",
       "      <td>1</td>\n",
       "    </tr>\n",
       "    <tr>\n",
       "      <th>4</th>\n",
       "      <td>2019-01-06</td>\n",
       "      <td>4344</td>\n",
       "      <td>25</td>\n",
       "      <td>3</td>\n",
       "    </tr>\n",
       "  </tbody>\n",
       "</table>\n",
       "</div>"
      ],
      "text/plain": [
       "         date  product_id  city_id  orders\n",
       "0  2019-12-10        5628       25       3\n",
       "1  2018-08-15        3646       14     157\n",
       "2  2018-10-23        1859       25       1\n",
       "3  2019-08-17        7292       25       1\n",
       "4  2019-01-06        4344       25       3"
      ]
     },
     "execution_count": 43,
     "metadata": {},
     "output_type": "execute_result"
    }
   ],
   "source": [
    "date.head()"
   ]
  },
  {
   "cell_type": "code",
   "execution_count": 44,
   "id": "a29cbee5",
   "metadata": {},
   "outputs": [
    {
     "name": "stdout",
     "output_type": "stream",
     "text": [
      "<class 'pandas.core.frame.DataFrame'>\n",
      "RangeIndex: 1000 entries, 0 to 999\n",
      "Data columns (total 4 columns):\n",
      " #   Column      Non-Null Count  Dtype \n",
      "---  ------      --------------  ----- \n",
      " 0   date        1000 non-null   object\n",
      " 1   product_id  1000 non-null   int64 \n",
      " 2   city_id     1000 non-null   int64 \n",
      " 3   orders      1000 non-null   int64 \n",
      "dtypes: int64(3), object(1)\n",
      "memory usage: 31.4+ KB\n"
     ]
    }
   ],
   "source": [
    "date.info()"
   ]
  },
  {
   "cell_type": "code",
   "execution_count": 45,
   "id": "8567586b",
   "metadata": {},
   "outputs": [],
   "source": [
    "date['date'] = pd.to_datetime(date['date'])"
   ]
  },
  {
   "cell_type": "code",
   "execution_count": 46,
   "id": "370cba67",
   "metadata": {},
   "outputs": [
    {
     "name": "stdout",
     "output_type": "stream",
     "text": [
      "<class 'pandas.core.frame.DataFrame'>\n",
      "RangeIndex: 1000 entries, 0 to 999\n",
      "Data columns (total 4 columns):\n",
      " #   Column      Non-Null Count  Dtype         \n",
      "---  ------      --------------  -----         \n",
      " 0   date        1000 non-null   datetime64[ns]\n",
      " 1   product_id  1000 non-null   int64         \n",
      " 2   city_id     1000 non-null   int64         \n",
      " 3   orders      1000 non-null   int64         \n",
      "dtypes: datetime64[ns](1), int64(3)\n",
      "memory usage: 31.4 KB\n"
     ]
    }
   ],
   "source": [
    "date.info()"
   ]
  },
  {
   "cell_type": "code",
   "execution_count": 47,
   "id": "de4fb88a",
   "metadata": {},
   "outputs": [],
   "source": [
    "date['date_year'] = date['date'].dt.year"
   ]
  },
  {
   "cell_type": "code",
   "execution_count": 48,
   "id": "981aa46e",
   "metadata": {},
   "outputs": [],
   "source": [
    "date['date_month_no'] = date['date'].dt.month"
   ]
  },
  {
   "cell_type": "code",
   "execution_count": 49,
   "id": "610d900d",
   "metadata": {},
   "outputs": [],
   "source": [
    "date['date_month_name'] = date['date'].dt.month_name()"
   ]
  },
  {
   "cell_type": "code",
   "execution_count": 50,
   "id": "3b451d87",
   "metadata": {},
   "outputs": [],
   "source": [
    "date['date_day'] = date['date'].dt.day"
   ]
  },
  {
   "cell_type": "code",
   "execution_count": 51,
   "id": "af82a07b",
   "metadata": {},
   "outputs": [],
   "source": [
    "date['day_of_week'] = date['date'].dt.dayofweek"
   ]
  },
  {
   "cell_type": "code",
   "execution_count": 52,
   "id": "84779265",
   "metadata": {},
   "outputs": [],
   "source": [
    "date['date_of_week_name'] = date['date'].dt.day_name()"
   ]
  },
  {
   "cell_type": "code",
   "execution_count": 53,
   "id": "7f98adb4",
   "metadata": {},
   "outputs": [],
   "source": [
    "date['quarter'] = date['date'].dt.quarter"
   ]
  },
  {
   "cell_type": "code",
   "execution_count": 54,
   "id": "2c3f16c2",
   "metadata": {},
   "outputs": [
    {
     "data": {
      "application/vnd.microsoft.datawrangler.viewer.v0+json": {
       "columns": [
        {
         "name": "index",
         "rawType": "int64",
         "type": "integer"
        },
        {
         "name": "date",
         "rawType": "datetime64[ns]",
         "type": "datetime"
        },
        {
         "name": "product_id",
         "rawType": "int64",
         "type": "integer"
        },
        {
         "name": "city_id",
         "rawType": "int64",
         "type": "integer"
        },
        {
         "name": "orders",
         "rawType": "int64",
         "type": "integer"
        },
        {
         "name": "date_year",
         "rawType": "int32",
         "type": "integer"
        },
        {
         "name": "date_month_no",
         "rawType": "int32",
         "type": "integer"
        },
        {
         "name": "date_month_name",
         "rawType": "object",
         "type": "string"
        },
        {
         "name": "date_day",
         "rawType": "int32",
         "type": "integer"
        },
        {
         "name": "day_of_week",
         "rawType": "int32",
         "type": "integer"
        },
        {
         "name": "date_of_week_name",
         "rawType": "object",
         "type": "string"
        },
        {
         "name": "quarter",
         "rawType": "int32",
         "type": "integer"
        }
       ],
       "ref": "3a7715cf-4308-4b72-bd90-d8186f4d4888",
       "rows": [
        [
         "0",
         "2019-12-10 00:00:00",
         "5628",
         "25",
         "3",
         "2019",
         "12",
         "December",
         "10",
         "1",
         "Tuesday",
         "4"
        ],
        [
         "1",
         "2018-08-15 00:00:00",
         "3646",
         "14",
         "157",
         "2018",
         "8",
         "August",
         "15",
         "2",
         "Wednesday",
         "3"
        ],
        [
         "2",
         "2018-10-23 00:00:00",
         "1859",
         "25",
         "1",
         "2018",
         "10",
         "October",
         "23",
         "1",
         "Tuesday",
         "4"
        ],
        [
         "3",
         "2019-08-17 00:00:00",
         "7292",
         "25",
         "1",
         "2019",
         "8",
         "August",
         "17",
         "5",
         "Saturday",
         "3"
        ],
        [
         "4",
         "2019-01-06 00:00:00",
         "4344",
         "25",
         "3",
         "2019",
         "1",
         "January",
         "6",
         "6",
         "Sunday",
         "1"
        ]
       ],
       "shape": {
        "columns": 11,
        "rows": 5
       }
      },
      "text/html": [
       "<div>\n",
       "<style scoped>\n",
       "    .dataframe tbody tr th:only-of-type {\n",
       "        vertical-align: middle;\n",
       "    }\n",
       "\n",
       "    .dataframe tbody tr th {\n",
       "        vertical-align: top;\n",
       "    }\n",
       "\n",
       "    .dataframe thead th {\n",
       "        text-align: right;\n",
       "    }\n",
       "</style>\n",
       "<table border=\"1\" class=\"dataframe\">\n",
       "  <thead>\n",
       "    <tr style=\"text-align: right;\">\n",
       "      <th></th>\n",
       "      <th>date</th>\n",
       "      <th>product_id</th>\n",
       "      <th>city_id</th>\n",
       "      <th>orders</th>\n",
       "      <th>date_year</th>\n",
       "      <th>date_month_no</th>\n",
       "      <th>date_month_name</th>\n",
       "      <th>date_day</th>\n",
       "      <th>day_of_week</th>\n",
       "      <th>date_of_week_name</th>\n",
       "      <th>quarter</th>\n",
       "    </tr>\n",
       "  </thead>\n",
       "  <tbody>\n",
       "    <tr>\n",
       "      <th>0</th>\n",
       "      <td>2019-12-10</td>\n",
       "      <td>5628</td>\n",
       "      <td>25</td>\n",
       "      <td>3</td>\n",
       "      <td>2019</td>\n",
       "      <td>12</td>\n",
       "      <td>December</td>\n",
       "      <td>10</td>\n",
       "      <td>1</td>\n",
       "      <td>Tuesday</td>\n",
       "      <td>4</td>\n",
       "    </tr>\n",
       "    <tr>\n",
       "      <th>1</th>\n",
       "      <td>2018-08-15</td>\n",
       "      <td>3646</td>\n",
       "      <td>14</td>\n",
       "      <td>157</td>\n",
       "      <td>2018</td>\n",
       "      <td>8</td>\n",
       "      <td>August</td>\n",
       "      <td>15</td>\n",
       "      <td>2</td>\n",
       "      <td>Wednesday</td>\n",
       "      <td>3</td>\n",
       "    </tr>\n",
       "    <tr>\n",
       "      <th>2</th>\n",
       "      <td>2018-10-23</td>\n",
       "      <td>1859</td>\n",
       "      <td>25</td>\n",
       "      <td>1</td>\n",
       "      <td>2018</td>\n",
       "      <td>10</td>\n",
       "      <td>October</td>\n",
       "      <td>23</td>\n",
       "      <td>1</td>\n",
       "      <td>Tuesday</td>\n",
       "      <td>4</td>\n",
       "    </tr>\n",
       "    <tr>\n",
       "      <th>3</th>\n",
       "      <td>2019-08-17</td>\n",
       "      <td>7292</td>\n",
       "      <td>25</td>\n",
       "      <td>1</td>\n",
       "      <td>2019</td>\n",
       "      <td>8</td>\n",
       "      <td>August</td>\n",
       "      <td>17</td>\n",
       "      <td>5</td>\n",
       "      <td>Saturday</td>\n",
       "      <td>3</td>\n",
       "    </tr>\n",
       "    <tr>\n",
       "      <th>4</th>\n",
       "      <td>2019-01-06</td>\n",
       "      <td>4344</td>\n",
       "      <td>25</td>\n",
       "      <td>3</td>\n",
       "      <td>2019</td>\n",
       "      <td>1</td>\n",
       "      <td>January</td>\n",
       "      <td>6</td>\n",
       "      <td>6</td>\n",
       "      <td>Sunday</td>\n",
       "      <td>1</td>\n",
       "    </tr>\n",
       "  </tbody>\n",
       "</table>\n",
       "</div>"
      ],
      "text/plain": [
       "        date  product_id  city_id  orders  date_year  date_month_no  \\\n",
       "0 2019-12-10        5628       25       3       2019             12   \n",
       "1 2018-08-15        3646       14     157       2018              8   \n",
       "2 2018-10-23        1859       25       1       2018             10   \n",
       "3 2019-08-17        7292       25       1       2019              8   \n",
       "4 2019-01-06        4344       25       3       2019              1   \n",
       "\n",
       "  date_month_name  date_day  day_of_week date_of_week_name  quarter  \n",
       "0        December        10            1           Tuesday        4  \n",
       "1          August        15            2         Wednesday        3  \n",
       "2         October        23            1           Tuesday        4  \n",
       "3          August        17            5          Saturday        3  \n",
       "4         January         6            6            Sunday        1  "
      ]
     },
     "execution_count": 54,
     "metadata": {},
     "output_type": "execute_result"
    }
   ],
   "source": [
    "date.head()"
   ]
  },
  {
   "cell_type": "code",
   "execution_count": 55,
   "id": "b16b9c97",
   "metadata": {},
   "outputs": [
    {
     "data": {
      "text/plain": [
       "datetime.datetime(2025, 8, 28, 9, 48, 25, 510988)"
      ]
     },
     "execution_count": 55,
     "metadata": {},
     "output_type": "execute_result"
    }
   ],
   "source": [
    "import datetime\n",
    "\n",
    "today = datetime.datetime.today()\n",
    "\n",
    "today"
   ]
  },
  {
   "cell_type": "code",
   "execution_count": 56,
   "id": "56d281ad",
   "metadata": {},
   "outputs": [
    {
     "name": "stdout",
     "output_type": "stream",
     "text": [
      "<class 'pandas.core.frame.DataFrame'>\n",
      "RangeIndex: 1000 entries, 0 to 999\n",
      "Data columns (total 2 columns):\n",
      " #   Column  Non-Null Count  Dtype \n",
      "---  ------  --------------  ----- \n",
      " 0   date    1000 non-null   object\n",
      " 1   msg     1000 non-null   object\n",
      "dtypes: object(2)\n",
      "memory usage: 15.8+ KB\n"
     ]
    }
   ],
   "source": [
    "time.info()"
   ]
  },
  {
   "cell_type": "code",
   "execution_count": 57,
   "id": "13fbecf6",
   "metadata": {},
   "outputs": [],
   "source": [
    "time['date'] = pd.to_datetime(time['date'])"
   ]
  },
  {
   "cell_type": "code",
   "execution_count": 58,
   "id": "cf8542ed",
   "metadata": {},
   "outputs": [
    {
     "name": "stdout",
     "output_type": "stream",
     "text": [
      "<class 'pandas.core.frame.DataFrame'>\n",
      "RangeIndex: 1000 entries, 0 to 999\n",
      "Data columns (total 2 columns):\n",
      " #   Column  Non-Null Count  Dtype         \n",
      "---  ------  --------------  -----         \n",
      " 0   date    1000 non-null   datetime64[ns]\n",
      " 1   msg     1000 non-null   object        \n",
      "dtypes: datetime64[ns](1), object(1)\n",
      "memory usage: 15.8+ KB\n"
     ]
    }
   ],
   "source": [
    "time.info()"
   ]
  },
  {
   "cell_type": "code",
   "execution_count": 59,
   "id": "226ab581",
   "metadata": {},
   "outputs": [],
   "source": [
    "time['hour'] = time['date'].dt.hour\n",
    "time['min'] = time['date'].dt.minute\n",
    "time['sec'] = time['date'].dt.second"
   ]
  },
  {
   "cell_type": "code",
   "execution_count": 60,
   "id": "50c37878",
   "metadata": {},
   "outputs": [],
   "source": [
    "\n",
    "time['time'] = time['date'].dt.time\n"
   ]
  },
  {
   "cell_type": "code",
   "execution_count": 61,
   "id": "f776170e",
   "metadata": {},
   "outputs": [
    {
     "data": {
      "application/vnd.microsoft.datawrangler.viewer.v0+json": {
       "columns": [
        {
         "name": "index",
         "rawType": "int64",
         "type": "integer"
        },
        {
         "name": "date",
         "rawType": "timedelta64[ns]",
         "type": "unknown"
        }
       ],
       "ref": "eb6613cc-99e3-42c1-8eb0-f9e1d718d061",
       "rows": [
        [
         "0",
         "4274 days 08:58:25.510988"
        ],
        [
         "1",
         "4138 days 10:08:25.510988"
        ],
        [
         "2",
         "4624 days 09:27:25.510988"
        ],
        [
         "3",
         "3926 days 09:17:25.510988"
        ],
        [
         "4",
         "4323 days 10:37:25.510988"
        ],
        [
         "5",
         "3459 days 10:56:25.510988"
        ],
        [
         "6",
         "4209 days 09:25:25.510988"
        ],
        [
         "7",
         "4661 days 08:38:25.510988"
        ],
        [
         "8",
         "3901 days 08:28:25.510988"
        ],
        [
         "9",
         "4680 days 10:02:25.510988"
        ],
        [
         "10",
         "4416 days 09:37:25.510988"
        ],
        [
         "11",
         "4271 days 09:09:25.510988"
        ],
        [
         "12",
         "4467 days 08:43:25.510988"
        ],
        [
         "13",
         "3195 days 11:19:25.510988"
        ],
        [
         "14",
         "3616 days 08:06:25.510988"
        ],
        [
         "15",
         "4751 days 10:35:25.510988"
        ],
        [
         "16",
         "3600 days 10:56:25.510988"
        ],
        [
         "17",
         "4337 days 08:47:25.510988"
        ],
        [
         "18",
         "3508 days 11:15:25.510988"
        ],
        [
         "19",
         "4181 days 10:32:25.510988"
        ],
        [
         "20",
         "4096 days 09:36:25.510988"
        ],
        [
         "21",
         "4235 days 09:31:25.510988"
        ],
        [
         "22",
         "3844 days 09:14:25.510988"
        ],
        [
         "23",
         "4370 days 09:42:25.510988"
        ],
        [
         "24",
         "4546 days 07:48:25.510988"
        ],
        [
         "25",
         "4104 days 08:47:25.510988"
        ],
        [
         "26",
         "3314 days 10:29:25.510988"
        ],
        [
         "27",
         "3923 days 10:49:25.510988"
        ],
        [
         "28",
         "3215 days 09:31:25.510988"
        ],
        [
         "29",
         "4177 days 10:52:25.510988"
        ],
        [
         "30",
         "4547 days 10:28:25.510988"
        ],
        [
         "31",
         "4561 days 08:50:25.510988"
        ],
        [
         "32",
         "4937 days 10:08:25.510988"
        ],
        [
         "33",
         "3709 days 09:03:25.510988"
        ],
        [
         "34",
         "3610 days 08:56:25.510988"
        ],
        [
         "35",
         "3593 days 08:41:25.510988"
        ],
        [
         "36",
         "4077 days 08:35:25.510988"
        ],
        [
         "37",
         "4314 days 07:59:25.510988"
        ],
        [
         "38",
         "4324 days 09:36:25.510988"
        ],
        [
         "39",
         "3400 days 09:41:25.510988"
        ],
        [
         "40",
         "4941 days 08:59:25.510988"
        ],
        [
         "41",
         "4569 days 08:55:25.510988"
        ],
        [
         "42",
         "4604 days 08:40:25.510988"
        ],
        [
         "43",
         "4302 days 10:02:25.510988"
        ],
        [
         "44",
         "3344 days 10:06:25.510988"
        ],
        [
         "45",
         "4839 days 09:20:25.510988"
        ],
        [
         "46",
         "4719 days 10:02:25.510988"
        ],
        [
         "47",
         "4127 days 09:17:25.510988"
        ],
        [
         "48",
         "4603 days 10:41:25.510988"
        ],
        [
         "49",
         "3978 days 10:08:25.510988"
        ]
       ],
       "shape": {
        "columns": 1,
        "rows": 1000
       }
      },
      "text/plain": [
       "0     4274 days 08:58:25.510988\n",
       "1     4138 days 10:08:25.510988\n",
       "2     4624 days 09:27:25.510988\n",
       "3     3926 days 09:17:25.510988\n",
       "4     4323 days 10:37:25.510988\n",
       "                 ...           \n",
       "995   4913 days 08:58:25.510988\n",
       "996   4234 days 10:34:25.510988\n",
       "997   4699 days 10:11:25.510988\n",
       "998   4815 days 10:14:25.510988\n",
       "999   4087 days 10:23:25.510988\n",
       "Name: date, Length: 1000, dtype: timedelta64[ns]"
      ]
     },
     "execution_count": 61,
     "metadata": {},
     "output_type": "execute_result"
    }
   ],
   "source": [
    "today - time['date']"
   ]
  },
  {
   "cell_type": "code",
   "execution_count": 62,
   "id": "e2bb460f",
   "metadata": {},
   "outputs": [
    {
     "data": {
      "application/vnd.microsoft.datawrangler.viewer.v0+json": {
       "columns": [
        {
         "name": "index",
         "rawType": "int64",
         "type": "integer"
        },
        {
         "name": "date",
         "rawType": "float64",
         "type": "float"
        }
       ],
       "ref": "3780f876-1d61-4500-b64f-a29c8fa2de3f",
       "rows": [
        [
         "0",
         "369305905.51098806"
        ],
        [
         "1",
         "357559705.51098806"
        ],
        [
         "2",
         "399547645.51098806"
        ],
        [
         "3",
         "339239845.51098806"
        ],
        [
         "4",
         "373545445.51098806"
        ],
        [
         "5",
         "298896985.51098806"
        ],
        [
         "6",
         "363691525.51098806"
        ],
        [
         "7",
         "402741505.51098806"
        ],
        [
         "8",
         "337076905.51098806"
        ],
        [
         "9",
         "404388145.51098806"
        ],
        [
         "10",
         "381577045.51098806"
        ],
        [
         "11",
         "369047365.51098806"
        ],
        [
         "12",
         "385980205.51098806"
        ],
        [
         "13",
         "276088765.510988"
        ],
        [
         "14",
         "312451585.51098806"
        ],
        [
         "15",
         "410524525.51098806"
        ],
        [
         "16",
         "311079385.51098806"
        ],
        [
         "17",
         "374748445.51098806"
        ],
        [
         "18",
         "303131725.51098806"
        ],
        [
         "19",
         "361276345.51098806"
        ],
        [
         "20",
         "353928985.51098806"
        ],
        [
         "21",
         "365938285.51098806"
        ],
        [
         "22",
         "332154865.51098806"
        ],
        [
         "23",
         "377602945.51098806"
        ],
        [
         "24",
         "392802505.51098806"
        ],
        [
         "25",
         "354617245.51098806"
        ],
        [
         "26",
         "286367365.510988"
        ],
        [
         "27",
         "338986165.51098806"
        ],
        [
         "28",
         "277810285.510988"
        ],
        [
         "29",
         "360931945.51098806"
        ],
        [
         "30",
         "392898505.51098806"
        ],
        [
         "31",
         "394102225.51098806"
        ],
        [
         "32",
         "426593305.51098806"
        ],
        [
         "33",
         "320490205.51098806"
        ],
        [
         "34",
         "311936185.51098806"
        ],
        [
         "35",
         "310466485.51098806"
        ],
        [
         "36",
         "352283725.51098806"
        ],
        [
         "37",
         "372758365.51098806"
        ],
        [
         "38",
         "373628185.51098806"
        ],
        [
         "39",
         "293794885.51098806"
        ],
        [
         "40",
         "426934765.51098806"
        ],
        [
         "41",
         "394793725.51098806"
        ],
        [
         "42",
         "397816825.51098806"
        ],
        [
         "43",
         "371728945.51098806"
        ],
        [
         "44",
         "288957985.51098806"
        ],
        [
         "45",
         "418123225.51098806"
        ],
        [
         "46",
         "407757745.51098806"
        ],
        [
         "47",
         "356606245.51098806"
        ],
        [
         "48",
         "397737685.51098806"
        ],
        [
         "49",
         "343735705.51098806"
        ]
       ],
       "shape": {
        "columns": 1,
        "rows": 1000
       }
      },
      "text/plain": [
       "0      3.693059e+08\n",
       "1      3.575597e+08\n",
       "2      3.995476e+08\n",
       "3      3.392398e+08\n",
       "4      3.735454e+08\n",
       "           ...     \n",
       "995    4.245155e+08\n",
       "996    3.658557e+08\n",
       "997    4.060303e+08\n",
       "998    4.160529e+08\n",
       "999    3.531542e+08\n",
       "Name: date, Length: 1000, dtype: float64"
      ]
     },
     "execution_count": 62,
     "metadata": {},
     "output_type": "execute_result"
    }
   ],
   "source": [
    "(today - time['date'])/np.timedelta64(1,'s')"
   ]
  },
  {
   "cell_type": "code",
   "execution_count": 63,
   "id": "f95ece59",
   "metadata": {},
   "outputs": [
    {
     "data": {
      "application/vnd.microsoft.datawrangler.viewer.v0+json": {
       "columns": [
        {
         "name": "index",
         "rawType": "int64",
         "type": "integer"
        },
        {
         "name": "date",
         "rawType": "float64",
         "type": "float"
        }
       ],
       "ref": "40d86005-ba24-4c6a-b21b-1a619a386361",
       "rows": [
        [
         "0",
         "6155098.425183134"
        ],
        [
         "1",
         "5959328.425183134"
        ],
        [
         "2",
         "6659127.425183134"
        ],
        [
         "3",
         "5653997.425183134"
        ],
        [
         "4",
         "6225757.425183134"
        ],
        [
         "5",
         "4981616.425183134"
        ],
        [
         "6",
         "6061525.425183134"
        ],
        [
         "7",
         "6712358.425183134"
        ],
        [
         "8",
         "5617948.425183134"
        ],
        [
         "9",
         "6739802.425183134"
        ],
        [
         "10",
         "6359617.425183134"
        ],
        [
         "11",
         "6150789.425183134"
        ],
        [
         "12",
         "6433003.425183134"
        ],
        [
         "13",
         "4601479.425183133"
        ],
        [
         "14",
         "5207526.425183134"
        ],
        [
         "15",
         "6842075.425183134"
        ],
        [
         "16",
         "5184656.425183134"
        ],
        [
         "17",
         "6245807.425183134"
        ],
        [
         "18",
         "5052195.425183134"
        ],
        [
         "19",
         "6021272.425183134"
        ],
        [
         "20",
         "5898816.425183134"
        ],
        [
         "21",
         "6098971.425183134"
        ],
        [
         "22",
         "5535914.425183134"
        ],
        [
         "23",
         "6293382.425183134"
        ],
        [
         "24",
         "6546708.425183134"
        ],
        [
         "25",
         "5910287.425183134"
        ],
        [
         "26",
         "4772789.425183133"
        ],
        [
         "27",
         "5649769.425183134"
        ],
        [
         "28",
         "4630171.425183133"
        ],
        [
         "29",
         "6015532.425183134"
        ],
        [
         "30",
         "6548308.425183134"
        ],
        [
         "31",
         "6568370.425183134"
        ],
        [
         "32",
         "7109888.425183134"
        ],
        [
         "33",
         "5341503.425183134"
        ],
        [
         "34",
         "5198936.425183134"
        ],
        [
         "35",
         "5174441.425183134"
        ],
        [
         "36",
         "5871395.425183134"
        ],
        [
         "37",
         "6212639.425183134"
        ],
        [
         "38",
         "6227136.425183134"
        ],
        [
         "39",
         "4896581.425183134"
        ],
        [
         "40",
         "7115579.425183134"
        ],
        [
         "41",
         "6579895.425183134"
        ],
        [
         "42",
         "6630280.425183134"
        ],
        [
         "43",
         "6195482.425183134"
        ],
        [
         "44",
         "4815966.425183134"
        ],
        [
         "45",
         "6968720.425183134"
        ],
        [
         "46",
         "6795962.425183134"
        ],
        [
         "47",
         "5943437.425183134"
        ],
        [
         "48",
         "6628961.425183134"
        ],
        [
         "49",
         "5728928.425183134"
        ]
       ],
       "shape": {
        "columns": 1,
        "rows": 1000
       }
      },
      "text/plain": [
       "0      6.155098e+06\n",
       "1      5.959328e+06\n",
       "2      6.659127e+06\n",
       "3      5.653997e+06\n",
       "4      6.225757e+06\n",
       "           ...     \n",
       "995    7.075258e+06\n",
       "996    6.097594e+06\n",
       "997    6.767171e+06\n",
       "998    6.934214e+06\n",
       "999    5.885903e+06\n",
       "Name: date, Length: 1000, dtype: float64"
      ]
     },
     "execution_count": 63,
     "metadata": {},
     "output_type": "execute_result"
    }
   ],
   "source": [
    "(today - time['date'])/np.timedelta64(1,'m')"
   ]
  },
  {
   "cell_type": "code",
   "execution_count": 64,
   "id": "9275c578",
   "metadata": {},
   "outputs": [
    {
     "data": {
      "application/vnd.microsoft.datawrangler.viewer.v0+json": {
       "columns": [
        {
         "name": "index",
         "rawType": "int64",
         "type": "integer"
        },
        {
         "name": "date",
         "rawType": "float64",
         "type": "float"
        }
       ],
       "ref": "1ef31c36-46f2-4a61-8e40-88174f10d2cf",
       "rows": [
        [
         "0",
         "102584.97375305223"
        ],
        [
         "1",
         "99322.1404197189"
        ],
        [
         "2",
         "110985.45708638556"
        ],
        [
         "3",
         "94233.29041971889"
        ],
        [
         "4",
         "103762.62375305223"
        ],
        [
         "5",
         "83026.9404197189"
        ],
        [
         "6",
         "101025.42375305224"
        ],
        [
         "7",
         "111872.6404197189"
        ],
        [
         "8",
         "93632.47375305223"
        ],
        [
         "9",
         "112330.04041971889"
        ],
        [
         "10",
         "105993.62375305223"
        ],
        [
         "11",
         "102513.15708638556"
        ],
        [
         "12",
         "107216.72375305223"
        ],
        [
         "13",
         "76691.32375305222"
        ],
        [
         "14",
         "86792.10708638557"
        ],
        [
         "15",
         "114034.5904197189"
        ],
        [
         "16",
         "86410.9404197189"
        ],
        [
         "17",
         "104096.79041971889"
        ],
        [
         "18",
         "84203.25708638557"
        ],
        [
         "19",
         "100354.54041971889"
        ],
        [
         "20",
         "98313.60708638557"
        ],
        [
         "21",
         "101649.52375305223"
        ],
        [
         "22",
         "92265.2404197189"
        ],
        [
         "23",
         "104889.70708638556"
        ],
        [
         "24",
         "109111.80708638557"
        ],
        [
         "25",
         "98504.79041971889"
        ],
        [
         "26",
         "79546.49041971889"
        ],
        [
         "27",
         "94162.82375305223"
        ],
        [
         "28",
         "77169.52375305223"
        ],
        [
         "29",
         "100258.87375305223"
        ],
        [
         "30",
         "109138.47375305223"
        ],
        [
         "31",
         "109472.8404197189"
        ],
        [
         "32",
         "118498.1404197189"
        ],
        [
         "33",
         "89025.05708638557"
        ],
        [
         "34",
         "86648.9404197189"
        ],
        [
         "35",
         "86240.6904197189"
        ],
        [
         "36",
         "97856.5904197189"
        ],
        [
         "37",
         "103543.9904197189"
        ],
        [
         "38",
         "103785.60708638557"
        ],
        [
         "39",
         "81609.6904197189"
        ],
        [
         "40",
         "118592.9904197189"
        ],
        [
         "41",
         "109664.92375305224"
        ],
        [
         "42",
         "110504.67375305224"
        ],
        [
         "43",
         "103258.04041971889"
        ],
        [
         "44",
         "80266.10708638557"
        ],
        [
         "45",
         "116145.3404197189"
        ],
        [
         "46",
         "113266.04041971889"
        ],
        [
         "47",
         "99057.29041971889"
        ],
        [
         "48",
         "110482.6904197189"
        ],
        [
         "49",
         "95482.1404197189"
        ]
       ],
       "shape": {
        "columns": 1,
        "rows": 1000
       }
      },
      "text/plain": [
       "0      102584.973753\n",
       "1       99322.140420\n",
       "2      110985.457086\n",
       "3       94233.290420\n",
       "4      103762.623753\n",
       "           ...      \n",
       "995    117920.973753\n",
       "996    101626.573753\n",
       "997    112786.190420\n",
       "998    115570.240420\n",
       "999     98098.390420\n",
       "Name: date, Length: 1000, dtype: float64"
      ]
     },
     "execution_count": 64,
     "metadata": {},
     "output_type": "execute_result"
    }
   ],
   "source": [
    "(today - time['date'])/np.timedelta64(1,'h')"
   ]
  },
  {
   "cell_type": "code",
   "execution_count": null,
   "id": "aa86f299",
   "metadata": {},
   "outputs": [],
   "source": []
  }
 ],
 "metadata": {
  "kernelspec": {
   "display_name": "Python 3",
   "language": "python",
   "name": "python3"
  },
  "language_info": {
   "codemirror_mode": {
    "name": "ipython",
    "version": 3
   },
   "file_extension": ".py",
   "mimetype": "text/x-python",
   "name": "python",
   "nbconvert_exporter": "python",
   "pygments_lexer": "ipython3",
   "version": "3.12.4"
  }
 },
 "nbformat": 4,
 "nbformat_minor": 5
}
